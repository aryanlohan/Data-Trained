{
 "cells": [
  {
   "cell_type": "code",
   "execution_count": 11,
   "id": "eb12e514",
   "metadata": {},
   "outputs": [],
   "source": [
    "import pandas as pd\n",
    "import numpy as np\n",
    "from sklearn.linear_model import LinearRegression\n",
    "from sklearn.linear_model import LogisticRegression\n",
    "from sklearn.neighbors import KNeighborsClassifier\n",
    "from sklearn.tree import DecisionTreeClassifier\n",
    "\n",
    "from sklearn.preprocessing import StandardScaler\n",
    "from sklearn.model_selection import train_test_split,cross_val_score,GridSearchCV\n",
    "from sklearn.feature_selection import SelectKBest,f_classif\n",
    "from sklearn.metrics import confusion_matrix, classification_report, accuracy_score, roc_curve, roc_auc_score,recall_score,precision_score,f1_score\n",
    "from statsmodels.stats.outliers_influence import variance_inflation_factor\n",
    "\t\n",
    "\n",
    "import statsmodels.api as sm\n",
    "import seaborn as sns\n",
    "import matplotlib.pyplot as plt\n",
    "\n",
    "import pickle\n",
    "import warnings\n",
    "warnings.filterwarnings('ignore')"
   ]
  },
  {
   "cell_type": "code",
   "execution_count": 12,
   "id": "1877fe2e",
   "metadata": {},
   "outputs": [],
   "source": [
    "df = pd.read_csv('https://raw.githubusercontent.com/dsrscientist/DSData/master/Advertising.csv')"
   ]
  },
  {
   "cell_type": "code",
   "execution_count": 13,
   "id": "0ae7d972",
   "metadata": {
    "scrolled": true
   },
   "outputs": [
    {
     "data": {
      "text/html": [
       "<div>\n",
       "<style scoped>\n",
       "    .dataframe tbody tr th:only-of-type {\n",
       "        vertical-align: middle;\n",
       "    }\n",
       "\n",
       "    .dataframe tbody tr th {\n",
       "        vertical-align: top;\n",
       "    }\n",
       "\n",
       "    .dataframe thead th {\n",
       "        text-align: right;\n",
       "    }\n",
       "</style>\n",
       "<table border=\"1\" class=\"dataframe\">\n",
       "  <thead>\n",
       "    <tr style=\"text-align: right;\">\n",
       "      <th></th>\n",
       "      <th>Unnamed: 0</th>\n",
       "      <th>TV</th>\n",
       "      <th>radio</th>\n",
       "      <th>newspaper</th>\n",
       "      <th>sales</th>\n",
       "    </tr>\n",
       "  </thead>\n",
       "  <tbody>\n",
       "    <tr>\n",
       "      <th>0</th>\n",
       "      <td>1</td>\n",
       "      <td>230.1</td>\n",
       "      <td>37.8</td>\n",
       "      <td>69.2</td>\n",
       "      <td>22.1</td>\n",
       "    </tr>\n",
       "    <tr>\n",
       "      <th>1</th>\n",
       "      <td>2</td>\n",
       "      <td>44.5</td>\n",
       "      <td>39.3</td>\n",
       "      <td>45.1</td>\n",
       "      <td>10.4</td>\n",
       "    </tr>\n",
       "    <tr>\n",
       "      <th>2</th>\n",
       "      <td>3</td>\n",
       "      <td>17.2</td>\n",
       "      <td>45.9</td>\n",
       "      <td>69.3</td>\n",
       "      <td>9.3</td>\n",
       "    </tr>\n",
       "    <tr>\n",
       "      <th>3</th>\n",
       "      <td>4</td>\n",
       "      <td>151.5</td>\n",
       "      <td>41.3</td>\n",
       "      <td>58.5</td>\n",
       "      <td>18.5</td>\n",
       "    </tr>\n",
       "    <tr>\n",
       "      <th>4</th>\n",
       "      <td>5</td>\n",
       "      <td>180.8</td>\n",
       "      <td>10.8</td>\n",
       "      <td>58.4</td>\n",
       "      <td>12.9</td>\n",
       "    </tr>\n",
       "  </tbody>\n",
       "</table>\n",
       "</div>"
      ],
      "text/plain": [
       "   Unnamed: 0     TV  radio  newspaper  sales\n",
       "0           1  230.1   37.8       69.2   22.1\n",
       "1           2   44.5   39.3       45.1   10.4\n",
       "2           3   17.2   45.9       69.3    9.3\n",
       "3           4  151.5   41.3       58.5   18.5\n",
       "4           5  180.8   10.8       58.4   12.9"
      ]
     },
     "execution_count": 13,
     "metadata": {},
     "output_type": "execute_result"
    }
   ],
   "source": [
    "df.head()"
   ]
  },
  {
   "cell_type": "code",
   "execution_count": 14,
   "id": "a898d4d9",
   "metadata": {},
   "outputs": [],
   "source": [
    "df.drop(columns = 'Unnamed: 0', inplace = True)"
   ]
  },
  {
   "cell_type": "code",
   "execution_count": 15,
   "id": "0571e43a",
   "metadata": {},
   "outputs": [
    {
     "data": {
      "text/plain": [
       "TV           float64\n",
       "radio        float64\n",
       "newspaper    float64\n",
       "sales        float64\n",
       "dtype: object"
      ]
     },
     "execution_count": 15,
     "metadata": {},
     "output_type": "execute_result"
    }
   ],
   "source": [
    "df.dtypes"
   ]
  },
  {
   "cell_type": "code",
   "execution_count": 16,
   "id": "9ea20969",
   "metadata": {},
   "outputs": [
    {
     "data": {
      "text/plain": [
       "TV           0\n",
       "radio        0\n",
       "newspaper    0\n",
       "sales        0\n",
       "dtype: int64"
      ]
     },
     "execution_count": 16,
     "metadata": {},
     "output_type": "execute_result"
    }
   ],
   "source": [
    "df.isnull().sum()"
   ]
  },
  {
   "cell_type": "code",
   "execution_count": 17,
   "id": "5d24c164",
   "metadata": {},
   "outputs": [
    {
     "data": {
      "text/plain": [
       "0"
      ]
     },
     "execution_count": 17,
     "metadata": {},
     "output_type": "execute_result"
    }
   ],
   "source": [
    "df.duplicated().sum()"
   ]
  },
  {
   "cell_type": "code",
   "execution_count": 18,
   "id": "3e07405a",
   "metadata": {},
   "outputs": [
    {
     "name": "stdout",
     "output_type": "stream",
     "text": [
      "*******************************************************\n",
      "Value counts of TV \n",
      "\n",
      "199.8    2\n",
      "109.8    2\n",
      "17.2     2\n",
      "177.0    2\n",
      "222.4    2\n",
      "        ..\n",
      "139.3    1\n",
      "216.8    1\n",
      "199.1    1\n",
      "26.8     1\n",
      "232.1    1\n",
      "Name: TV, Length: 190, dtype: int64\n",
      "*******************************************************\n",
      "*******************************************************\n",
      "Value counts of radio \n",
      "\n",
      "4.1     3\n",
      "5.7     3\n",
      "13.9    2\n",
      "14.3    2\n",
      "36.9    2\n",
      "       ..\n",
      "42.8    1\n",
      "14.5    1\n",
      "30.6    1\n",
      "33.0    1\n",
      "8.6     1\n",
      "Name: radio, Length: 167, dtype: int64\n",
      "*******************************************************\n",
      "*******************************************************\n",
      "Value counts of newspaper \n",
      "\n",
      "9.3     3\n",
      "25.6    3\n",
      "8.7     3\n",
      "34.6    2\n",
      "8.5     2\n",
      "       ..\n",
      "27.2    1\n",
      "31.7    1\n",
      "19.3    1\n",
      "31.3    1\n",
      "66.2    1\n",
      "Name: newspaper, Length: 172, dtype: int64\n",
      "*******************************************************\n",
      "*******************************************************\n",
      "Value counts of sales \n",
      "\n",
      "9.7     5\n",
      "11.7    4\n",
      "12.9    4\n",
      "15.9    4\n",
      "20.7    3\n",
      "       ..\n",
      "17.0    1\n",
      "18.3    1\n",
      "22.3    1\n",
      "14.0    1\n",
      "25.5    1\n",
      "Name: sales, Length: 121, dtype: int64\n",
      "*******************************************************\n"
     ]
    }
   ],
   "source": [
    "for i in df.columns:\n",
    "    print(\"*******************************************************\")\n",
    "    print(\"Value counts of\", i, \"\\n\" )\n",
    "    print(df[i].value_counts())\n",
    "    print('*******************************************************')"
   ]
  },
  {
   "cell_type": "code",
   "execution_count": 19,
   "id": "e09e460f",
   "metadata": {},
   "outputs": [
    {
     "data": {
      "text/html": [
       "<div>\n",
       "<style scoped>\n",
       "    .dataframe tbody tr th:only-of-type {\n",
       "        vertical-align: middle;\n",
       "    }\n",
       "\n",
       "    .dataframe tbody tr th {\n",
       "        vertical-align: top;\n",
       "    }\n",
       "\n",
       "    .dataframe thead th {\n",
       "        text-align: right;\n",
       "    }\n",
       "</style>\n",
       "<table border=\"1\" class=\"dataframe\">\n",
       "  <thead>\n",
       "    <tr style=\"text-align: right;\">\n",
       "      <th></th>\n",
       "      <th>TV</th>\n",
       "      <th>radio</th>\n",
       "      <th>newspaper</th>\n",
       "      <th>sales</th>\n",
       "    </tr>\n",
       "  </thead>\n",
       "  <tbody>\n",
       "    <tr>\n",
       "      <th>TV</th>\n",
       "      <td>1.000000</td>\n",
       "      <td>0.054809</td>\n",
       "      <td>0.056648</td>\n",
       "      <td>0.782224</td>\n",
       "    </tr>\n",
       "    <tr>\n",
       "      <th>radio</th>\n",
       "      <td>0.054809</td>\n",
       "      <td>1.000000</td>\n",
       "      <td>0.354104</td>\n",
       "      <td>0.576223</td>\n",
       "    </tr>\n",
       "    <tr>\n",
       "      <th>newspaper</th>\n",
       "      <td>0.056648</td>\n",
       "      <td>0.354104</td>\n",
       "      <td>1.000000</td>\n",
       "      <td>0.228299</td>\n",
       "    </tr>\n",
       "    <tr>\n",
       "      <th>sales</th>\n",
       "      <td>0.782224</td>\n",
       "      <td>0.576223</td>\n",
       "      <td>0.228299</td>\n",
       "      <td>1.000000</td>\n",
       "    </tr>\n",
       "  </tbody>\n",
       "</table>\n",
       "</div>"
      ],
      "text/plain": [
       "                 TV     radio  newspaper     sales\n",
       "TV         1.000000  0.054809   0.056648  0.782224\n",
       "radio      0.054809  1.000000   0.354104  0.576223\n",
       "newspaper  0.056648  0.354104   1.000000  0.228299\n",
       "sales      0.782224  0.576223   0.228299  1.000000"
      ]
     },
     "execution_count": 19,
     "metadata": {},
     "output_type": "execute_result"
    }
   ],
   "source": [
    "df.corr()"
   ]
  },
  {
   "cell_type": "code",
   "execution_count": 20,
   "id": "ce0cadc0",
   "metadata": {},
   "outputs": [
    {
     "data": {
      "text/plain": [
       "<AxesSubplot:>"
      ]
     },
     "execution_count": 20,
     "metadata": {},
     "output_type": "execute_result"
    },
    {
     "data": {
      "image/png": "[encoded data removed]",
      "text/plain": [
       "<Figure size 1584x504 with 2 Axes>"
      ]
     },
     "metadata": {
      "needs_background": "light"
     },
     "output_type": "display_data"
    }
   ],
   "source": [
    "import matplotlib.pyplot as plt\n",
    "plt.figure(figsize=(22,7))\n",
    "sns.heatmap(df.corr(),annot=True,linewidth=0.1,linecolor=\"black\",fmt=\"0.2f\")"
   ]
  },
  {
   "cell_type": "code",
   "execution_count": 21,
   "id": "e7fc8a36",
   "metadata": {},
   "outputs": [
    {
     "data": {
      "text/plain": [
       "sales        1.000000\n",
       "TV           0.782224\n",
       "radio        0.576223\n",
       "newspaper    0.228299\n",
       "Name: sales, dtype: float64"
      ]
     },
     "execution_count": 21,
     "metadata": {},
     "output_type": "execute_result"
    }
   ],
   "source": [
    "corr_mat=np.abs(df.corr())\n",
    "corr_mat['sales'].sort_values(ascending=False)"
   ]
  },
  {
   "cell_type": "code",
   "execution_count": 22,
   "id": "e28e6c7f",
   "metadata": {},
   "outputs": [
    {
     "data": {
      "text/html": [
       "<div>\n",
       "<style scoped>\n",
       "    .dataframe tbody tr th:only-of-type {\n",
       "        vertical-align: middle;\n",
       "    }\n",
       "\n",
       "    .dataframe tbody tr th {\n",
       "        vertical-align: top;\n",
       "    }\n",
       "\n",
       "    .dataframe thead th {\n",
       "        text-align: right;\n",
       "    }\n",
       "</style>\n",
       "<table border=\"1\" class=\"dataframe\">\n",
       "  <thead>\n",
       "    <tr style=\"text-align: right;\">\n",
       "      <th></th>\n",
       "      <th>VIF</th>\n",
       "      <th>features</th>\n",
       "    </tr>\n",
       "  </thead>\n",
       "  <tbody>\n",
       "    <tr>\n",
       "      <th>3</th>\n",
       "      <td>55.303920</td>\n",
       "      <td>sales</td>\n",
       "    </tr>\n",
       "    <tr>\n",
       "      <th>0</th>\n",
       "      <td>23.198876</td>\n",
       "      <td>TV</td>\n",
       "    </tr>\n",
       "    <tr>\n",
       "      <th>1</th>\n",
       "      <td>12.570312</td>\n",
       "      <td>radio</td>\n",
       "    </tr>\n",
       "    <tr>\n",
       "      <th>2</th>\n",
       "      <td>3.153498</td>\n",
       "      <td>newspaper</td>\n",
       "    </tr>\n",
       "  </tbody>\n",
       "</table>\n",
       "</div>"
      ],
      "text/plain": [
       "         VIF   features\n",
       "3  55.303920      sales\n",
       "0  23.198876         TV\n",
       "1  12.570312      radio\n",
       "2   3.153498  newspaper"
      ]
     },
     "execution_count": 22,
     "metadata": {},
     "output_type": "execute_result"
    }
   ],
   "source": [
    "vif=pd.DataFrame()\n",
    "vif[\"VIF\"] = [variance_inflation_factor(df.values, i) for i in range(len(df.columns))]\n",
    "vif[\"features\"]=df.columns\n",
    "vif.sort_values(by=['VIF'], ascending=False)"
   ]
  },
  {
   "cell_type": "code",
   "execution_count": 23,
   "id": "b15a5d5b",
   "metadata": {},
   "outputs": [],
   "source": [
    "y=df['sales']\n",
    "X=df.drop(columns=['sales'])"
   ]
  },
  {
   "cell_type": "markdown",
   "id": "558bfdc1",
   "metadata": {},
   "source": [
    "# DATA VISUALISATION"
   ]
  },
  {
   "cell_type": "code",
   "execution_count": 24,
   "id": "fe649f62",
   "metadata": {},
   "outputs": [
    {
     "data": {
      "image/png": "[encoded data removed]",
      "text/plain": [
       "<Figure size 1440x1440 with 3 Axes>"
      ]
     },
     "metadata": {},
     "output_type": "display_data"
    }
   ],
   "source": [
    "plt.figure(figsize = (20,20), facecolor = 'white')\n",
    "plotnumber = 1\n",
    "\n",
    "for column in X:\n",
    "    if plotnumber<=12:\n",
    "        ax = plt.subplot(3,4,plotnumber)\n",
    "        sns.distplot(X[column])\n",
    "        plt.xlabel(column,fontsize=20)\n",
    "        \n",
    "    plotnumber+=1\n",
    "plt.tight_layout()"
   ]
  },
  {
   "cell_type": "code",
   "execution_count": 25,
   "id": "4ac6cd74",
   "metadata": {},
   "outputs": [
    {
     "data": {
      "text/plain": [
       "newspaper    0.894720\n",
       "radio        0.094175\n",
       "TV          -0.069853\n",
       "dtype: float64"
      ]
     },
     "execution_count": 25,
     "metadata": {},
     "output_type": "execute_result"
    }
   ],
   "source": [
    "X.skew().sort_values(ascending=False)"
   ]
  },
  {
   "cell_type": "code",
   "execution_count": 26,
   "id": "4ef64f6f",
   "metadata": {},
   "outputs": [
    {
     "data": {
      "image/png": "[encoded data removed]",
      "text/plain": [
       "<Figure size 1440x576 with 1 Axes>"
      ]
     },
     "metadata": {
      "needs_background": "light"
     },
     "output_type": "display_data"
    }
   ],
   "source": [
    "X.boxplot(figsize=[20,8]) \n",
    "plt.subplots_adjust(bottom=0.25)\n",
    "plt.show()"
   ]
  },
  {
   "cell_type": "code",
   "execution_count": 27,
   "id": "1f64fa00",
   "metadata": {},
   "outputs": [
    {
     "data": {
      "text/plain": [
       "newspaper   -0.077942\n",
       "radio       -0.242968\n",
       "TV          -0.315199\n",
       "dtype: float64"
      ]
     },
     "execution_count": 27,
     "metadata": {},
     "output_type": "execute_result"
    }
   ],
   "source": [
    "from sklearn.preprocessing import power_transform\n",
    "X_new = power_transform(X)\n",
    "X=pd.DataFrame(X_new,columns=X.columns)\n",
    "X.skew().sort_values(ascending=False)"
   ]
  },
  {
   "cell_type": "code",
   "execution_count": 28,
   "id": "ede05bed",
   "metadata": {},
   "outputs": [
    {
     "data": {
      "image/png": "[encoded data removed]",
      "text/plain": [
       "<Figure size 1440x1440 with 3 Axes>"
      ]
     },
     "metadata": {},
     "output_type": "display_data"
    }
   ],
   "source": [
    "plt.figure(figsize = (20,20), facecolor = 'white')\n",
    "plotnumber = 1\n",
    "\n",
    "for column in X:\n",
    "    if plotnumber<=12:\n",
    "        ax = plt.subplot(3,4,plotnumber)\n",
    "        sns.distplot(X[column])\n",
    "        plt.xlabel(column,fontsize=20)\n",
    "        \n",
    "    plotnumber+=1\n",
    "plt.tight_layout()"
   ]
  },
  {
   "cell_type": "code",
   "execution_count": 29,
   "id": "0614feb8",
   "metadata": {},
   "outputs": [
    {
     "data": {
      "image/png": "[encoded data removed]",
      "text/plain": [
       "<Figure size 1440x576 with 1 Axes>"
      ]
     },
     "metadata": {
      "needs_background": "light"
     },
     "output_type": "display_data"
    }
   ],
   "source": [
    "X.boxplot(figsize=[20,8]) \n",
    "plt.subplots_adjust(bottom=0.25)\n",
    "plt.show()"
   ]
  },
  {
   "cell_type": "code",
   "execution_count": 30,
   "id": "4f287e74",
   "metadata": {},
   "outputs": [
    {
     "data": {
      "image/png": "[encoded data removed]",
      "text/plain": [
       "<Figure size 1440x2376 with 3 Axes>"
      ]
     },
     "metadata": {},
     "output_type": "display_data"
    }
   ],
   "source": [
    "plt.figure(figsize=(20,33),facecolor='white')\n",
    "plotnumber=1\n",
    "\n",
    "for column in X:\n",
    "    if plotnumber<=15: #double the features\n",
    "        ax=plt.subplot(5,3,plotnumber)\n",
    "        plt.scatter(X[column],y)\n",
    "        plt.xlabel(column,fontsize=20)\n",
    "        plt.ylabel('sales', fontsize=20)\n",
    "    plotnumber+=1\n",
    "plt.tight_layout()"
   ]
  },
  {
   "cell_type": "code",
   "execution_count": 31,
   "id": "39a74f06",
   "metadata": {},
   "outputs": [],
   "source": [
    "scaler = StandardScaler()\n",
    "X_scaled = scaler.fit_transform(X)"
   ]
  },
  {
   "cell_type": "code",
   "execution_count": 32,
   "id": "b6412bb3",
   "metadata": {},
   "outputs": [
    {
     "name": "stdout",
     "output_type": "stream",
     "text": [
      "At random state 0,the training accuracy is:- 0.9129495390360743\n",
      "At random state 0,the testing accuracy is:- 0.8838865502815021\n",
      "\n",
      "\n",
      "At random state 1,the training accuracy is:- 0.9071938747219684\n",
      "At random state 1,the testing accuracy is:- 0.896222351531866\n",
      "\n",
      "\n",
      "At random state 2,the training accuracy is:- 0.9183341288802332\n",
      "At random state 2,the testing accuracy is:- 0.8134661880809732\n",
      "\n",
      "\n",
      "At random state 3,the training accuracy is:- 0.9044922374546075\n",
      "At random state 3,the testing accuracy is:- 0.9176823268482114\n",
      "\n",
      "\n",
      "At random state 4,the training accuracy is:- 0.9058334490016562\n",
      "At random state 4,the testing accuracy is:- 0.8999332568068062\n",
      "\n",
      "\n",
      "At random state 5,the training accuracy is:- 0.9057996837685972\n",
      "At random state 5,the testing accuracy is:- 0.9111155103873196\n",
      "\n",
      "\n",
      "At random state 6,the training accuracy is:- 0.9031637800959937\n",
      "At random state 6,the testing accuracy is:- 0.9263228920019166\n",
      "\n",
      "\n",
      "At random state 7,the training accuracy is:- 0.9024328978288426\n",
      "At random state 7,the testing accuracy is:- 0.9229594391045336\n",
      "\n",
      "\n",
      "At random state 8,the training accuracy is:- 0.9161168555487973\n",
      "At random state 8,the testing accuracy is:- 0.8678974095570129\n",
      "\n",
      "\n",
      "At random state 9,the training accuracy is:- 0.9009624466452009\n",
      "At random state 9,the testing accuracy is:- 0.9318076821551767\n",
      "\n",
      "\n",
      "At random state 10,the training accuracy is:- 0.9228846311393284\n",
      "At random state 10,the testing accuracy is:- 0.8657541622711326\n",
      "\n",
      "\n",
      "At random state 11,the training accuracy is:- 0.9133524709379977\n",
      "At random state 11,the testing accuracy is:- 0.8803200845985655\n",
      "\n",
      "\n",
      "At random state 12,the training accuracy is:- 0.902936158022683\n",
      "At random state 12,the testing accuracy is:- 0.9194470983657714\n",
      "\n",
      "\n",
      "At random state 13,the training accuracy is:- 0.8976805428874328\n",
      "At random state 13,the testing accuracy is:- 0.939589889787954\n",
      "\n",
      "\n",
      "At random state 14,the training accuracy is:- 0.9123609625961204\n",
      "At random state 14,the testing accuracy is:- 0.8855915841915029\n",
      "\n",
      "\n",
      "At random state 15,the training accuracy is:- 0.9105627140433177\n",
      "At random state 15,the testing accuracy is:- 0.892749299033213\n",
      "\n",
      "\n",
      "At random state 16,the training accuracy is:- 0.9007165527505835\n",
      "At random state 16,the testing accuracy is:- 0.9394773289601728\n",
      "\n",
      "\n",
      "At random state 17,the training accuracy is:- 0.9142812695219606\n",
      "At random state 17,the testing accuracy is:- 0.8704482295852985\n",
      "\n",
      "\n",
      "At random state 18,the training accuracy is:- 0.914422622247835\n",
      "At random state 18,the testing accuracy is:- 0.8852485991092028\n",
      "\n",
      "\n",
      "At random state 19,the training accuracy is:- 0.9091652752339459\n",
      "At random state 19,the testing accuracy is:- 0.8899047479311966\n",
      "\n",
      "\n",
      "At random state 20,the training accuracy is:- 0.9040548283088208\n",
      "At random state 20,the testing accuracy is:- 0.9146141588810445\n",
      "\n",
      "\n",
      "At random state 21,the training accuracy is:- 0.9055624003652625\n",
      "At random state 21,the testing accuracy is:- 0.9082319224948717\n",
      "\n",
      "\n",
      "At random state 22,the training accuracy is:- 0.9009738344986652\n",
      "At random state 22,the testing accuracy is:- 0.9263830838963718\n",
      "\n",
      "\n",
      "At random state 23,the training accuracy is:- 0.9051980620752518\n",
      "At random state 23,the testing accuracy is:- 0.912255042790337\n",
      "\n",
      "\n",
      "At random state 24,the training accuracy is:- 0.904713122687983\n",
      "At random state 24,the testing accuracy is:- 0.9161946899635486\n",
      "\n",
      "\n",
      "At random state 25,the training accuracy is:- 0.9108220375209233\n",
      "At random state 25,the testing accuracy is:- 0.8864519771219055\n",
      "\n",
      "\n",
      "At random state 26,the training accuracy is:- 0.9097254623523157\n",
      "At random state 26,the testing accuracy is:- 0.8861223870939149\n",
      "\n",
      "\n",
      "At random state 27,the training accuracy is:- 0.9061121337699268\n",
      "At random state 27,the testing accuracy is:- 0.9124326285551333\n",
      "\n",
      "\n",
      "At random state 28,the training accuracy is:- 0.9072975185732034\n",
      "At random state 28,the testing accuracy is:- 0.9055189371310904\n",
      "\n",
      "\n",
      "At random state 29,the training accuracy is:- 0.9019778705090933\n",
      "At random state 29,the testing accuracy is:- 0.9177322552308231\n",
      "\n",
      "\n",
      "At random state 30,the training accuracy is:- 0.9032029024339487\n",
      "At random state 30,the testing accuracy is:- 0.9184029165462607\n",
      "\n",
      "\n",
      "At random state 31,the training accuracy is:- 0.9011717960066744\n",
      "At random state 31,the testing accuracy is:- 0.9203877988948186\n",
      "\n",
      "\n",
      "At random state 32,the training accuracy is:- 0.9185058459448898\n",
      "At random state 32,the testing accuracy is:- 0.8358992309579859\n",
      "\n",
      "\n",
      "At random state 33,the training accuracy is:- 0.9105975424686963\n",
      "At random state 33,the testing accuracy is:- 0.8803971236069517\n",
      "\n",
      "\n",
      "At random state 34,the training accuracy is:- 0.911792222488136\n",
      "At random state 34,the testing accuracy is:- 0.8839111433962008\n",
      "\n",
      "\n",
      "At random state 35,the training accuracy is:- 0.9170581141140548\n",
      "At random state 35,the testing accuracy is:- 0.8420493162670036\n",
      "\n",
      "\n",
      "At random state 36,the training accuracy is:- 0.9017665999083452\n",
      "At random state 36,the testing accuracy is:- 0.9269013680745881\n",
      "\n",
      "\n",
      "At random state 37,the training accuracy is:- 0.9112122909365981\n",
      "At random state 37,the testing accuracy is:- 0.8884592002685253\n",
      "\n",
      "\n",
      "At random state 38,the training accuracy is:- 0.9079162095332599\n",
      "At random state 38,the testing accuracy is:- 0.9010698757344736\n",
      "\n",
      "\n",
      "At random state 39,the training accuracy is:- 0.9139340857893716\n",
      "At random state 39,the testing accuracy is:- 0.869805273691302\n",
      "\n",
      "\n",
      "At random state 40,the training accuracy is:- 0.9188570437425927\n",
      "At random state 40,the testing accuracy is:- 0.8542245191528461\n",
      "\n",
      "\n",
      "At random state 41,the training accuracy is:- 0.9102190502465964\n",
      "At random state 41,the testing accuracy is:- 0.8937312995040837\n",
      "\n",
      "\n",
      "At random state 42,the training accuracy is:- 0.9049632005892959\n",
      "At random state 42,the testing accuracy is:- 0.9138021136866258\n",
      "\n",
      "\n",
      "At random state 43,the training accuracy is:- 0.9004897083294492\n",
      "At random state 43,the testing accuracy is:- 0.9321301514549021\n",
      "\n",
      "\n",
      "At random state 44,the training accuracy is:- 0.9118487205867772\n",
      "At random state 44,the testing accuracy is:- 0.8743918799320494\n",
      "\n",
      "\n",
      "At random state 45,the training accuracy is:- 0.9057903571407299\n",
      "At random state 45,the testing accuracy is:- 0.9087110254753443\n",
      "\n",
      "\n",
      "At random state 46,the training accuracy is:- 0.9130511705521397\n",
      "At random state 46,the testing accuracy is:- 0.8657040334330455\n",
      "\n",
      "\n",
      "At random state 47,the training accuracy is:- 0.9078904275091112\n",
      "At random state 47,the testing accuracy is:- 0.9005738151488636\n",
      "\n",
      "\n",
      "At random state 48,the training accuracy is:- 0.9020955665822108\n",
      "At random state 48,the testing accuracy is:- 0.9248092380313994\n",
      "\n",
      "\n",
      "At random state 49,the training accuracy is:- 0.9213692965856144\n",
      "At random state 49,the testing accuracy is:- 0.8431951938655837\n",
      "\n",
      "\n",
      "At random state 50,the training accuracy is:- 0.9118285594538524\n",
      "At random state 50,the testing accuracy is:- 0.8571529325285363\n",
      "\n",
      "\n",
      "At random state 51,the training accuracy is:- 0.9061949092130422\n",
      "At random state 51,the testing accuracy is:- 0.904552747538869\n",
      "\n",
      "\n",
      "At random state 52,the training accuracy is:- 0.9159688226033337\n",
      "At random state 52,the testing accuracy is:- 0.8784644356620781\n",
      "\n",
      "\n",
      "At random state 53,the training accuracy is:- 0.8989992099599323\n",
      "At random state 53,the testing accuracy is:- 0.9361841153906989\n",
      "\n",
      "\n",
      "At random state 54,the training accuracy is:- 0.9015581622607005\n",
      "At random state 54,the testing accuracy is:- 0.9301797919444895\n",
      "\n",
      "\n",
      "At random state 55,the training accuracy is:- 0.903113522825293\n",
      "At random state 55,the testing accuracy is:- 0.9215456769563856\n",
      "\n",
      "\n",
      "At random state 56,the training accuracy is:- 0.907903552480028\n",
      "At random state 56,the testing accuracy is:- 0.9042263224424736\n",
      "\n",
      "\n",
      "At random state 57,the training accuracy is:- 0.895308788272214\n",
      "At random state 57,the testing accuracy is:- 0.9431364424474638\n",
      "\n",
      "\n",
      "At random state 58,the training accuracy is:- 0.9203168422350185\n",
      "At random state 58,the testing accuracy is:- 0.860650691822407\n",
      "\n",
      "\n",
      "At random state 59,the training accuracy is:- 0.9038775993395896\n",
      "At random state 59,the testing accuracy is:- 0.9187981301938702\n",
      "\n",
      "\n",
      "At random state 60,the training accuracy is:- 0.9007891011576945\n",
      "At random state 60,the testing accuracy is:- 0.9276066212677648\n",
      "\n",
      "\n",
      "At random state 61,the training accuracy is:- 0.9095824787427896\n",
      "At random state 61,the testing accuracy is:- 0.8896111045827058\n",
      "\n",
      "\n",
      "At random state 62,the training accuracy is:- 0.9174896046611255\n",
      "At random state 62,the testing accuracy is:- 0.8693195452162922\n",
      "\n",
      "\n",
      "At random state 63,the training accuracy is:- 0.9041381449353588\n",
      "At random state 63,the testing accuracy is:- 0.9221005536010268\n",
      "\n",
      "\n",
      "At random state 64,the training accuracy is:- 0.9079142899545767\n",
      "At random state 64,the testing accuracy is:- 0.8964084075107653\n",
      "\n",
      "\n",
      "At random state 65,the training accuracy is:- 0.9043116058172039\n",
      "At random state 65,the testing accuracy is:- 0.9181323568710561\n",
      "\n",
      "\n",
      "At random state 66,the training accuracy is:- 0.9091938493251156\n",
      "At random state 66,the testing accuracy is:- 0.8996390781190253\n",
      "\n",
      "\n",
      "At random state 67,the training accuracy is:- 0.9111440876313133\n",
      "At random state 67,the testing accuracy is:- 0.8875870015335046\n",
      "\n",
      "\n",
      "At random state 68,the training accuracy is:- 0.9138243202034858\n",
      "At random state 68,the testing accuracy is:- 0.8589891563312657\n",
      "\n",
      "\n",
      "At random state 69,the training accuracy is:- 0.9014443993649188\n",
      "At random state 69,the testing accuracy is:- 0.9185233771378266\n",
      "\n",
      "\n",
      "At random state 70,the training accuracy is:- 0.9000269410692062\n",
      "At random state 70,the testing accuracy is:- 0.9238416154690943\n",
      "\n",
      "\n",
      "At random state 71,the training accuracy is:- 0.9185638639298015\n",
      "At random state 71,the testing accuracy is:- 0.8626931959696404\n",
      "\n",
      "\n",
      "At random state 72,the training accuracy is:- 0.9020381903522322\n",
      "At random state 72,the testing accuracy is:- 0.9246687934200781\n",
      "\n",
      "\n",
      "At random state 73,the training accuracy is:- 0.9137158777681897\n",
      "At random state 73,the testing accuracy is:- 0.8738770721132307\n",
      "\n",
      "\n",
      "At random state 74,the training accuracy is:- 0.9062392352374458\n",
      "At random state 74,the testing accuracy is:- 0.8971155481778106\n",
      "\n",
      "\n",
      "At random state 75,the training accuracy is:- 0.9043284575928459\n",
      "At random state 75,the testing accuracy is:- 0.9187213130374419\n",
      "\n",
      "\n",
      "At random state 76,the training accuracy is:- 0.9167003187657927\n",
      "At random state 76,the testing accuracy is:- 0.7872310541726862\n",
      "\n",
      "\n",
      "At random state 77,the training accuracy is:- 0.9008407055820995\n",
      "At random state 77,the testing accuracy is:- 0.9295887069752793\n",
      "\n",
      "\n",
      "At random state 78,the training accuracy is:- 0.9053283797064712\n",
      "At random state 78,the testing accuracy is:- 0.9168981169463655\n",
      "\n",
      "\n",
      "At random state 79,the training accuracy is:- 0.9061109164102092\n",
      "At random state 79,the testing accuracy is:- 0.9004417088792037\n",
      "\n",
      "\n",
      "At random state 80,the training accuracy is:- 0.9174194759885411\n",
      "At random state 80,the testing accuracy is:- 0.8586454341647931\n",
      "\n",
      "\n",
      "At random state 81,the training accuracy is:- 0.9077888550419523\n",
      "At random state 81,the testing accuracy is:- 0.9014652379684626\n",
      "\n",
      "\n",
      "At random state 82,the training accuracy is:- 0.9206782975894253\n",
      "At random state 82,the testing accuracy is:- 0.8378836808675187\n",
      "\n",
      "\n",
      "At random state 83,the training accuracy is:- 0.8958074123424984\n",
      "At random state 83,the testing accuracy is:- 0.9428931586289614\n",
      "\n",
      "\n",
      "At random state 84,the training accuracy is:- 0.9035460222335627\n",
      "At random state 84,the testing accuracy is:- 0.9212349415329081\n",
      "\n",
      "\n",
      "At random state 85,the training accuracy is:- 0.912962692366928\n",
      "At random state 85,the testing accuracy is:- 0.8819302530555694\n",
      "\n",
      "\n",
      "At random state 86,the training accuracy is:- 0.90712913594853\n",
      "At random state 86,the testing accuracy is:- 0.9077013021276182\n",
      "\n",
      "\n",
      "At random state 87,the training accuracy is:- 0.9136862395498544\n",
      "At random state 87,the testing accuracy is:- 0.8291889959066567\n",
      "\n",
      "\n",
      "At random state 88,the training accuracy is:- 0.91395033287003\n",
      "At random state 88,the testing accuracy is:- 0.8750208458235947\n",
      "\n",
      "\n",
      "At random state 89,the training accuracy is:- 0.9121197005279641\n",
      "At random state 89,the testing accuracy is:- 0.8761149085676091\n",
      "\n",
      "\n",
      "At random state 90,the training accuracy is:- 0.9118766015891959\n",
      "At random state 90,the testing accuracy is:- 0.8743953914251712\n",
      "\n",
      "\n",
      "At random state 91,the training accuracy is:- 0.9000719902630581\n",
      "At random state 91,the testing accuracy is:- 0.9054991771558711\n",
      "\n",
      "\n",
      "At random state 92,the training accuracy is:- 0.8981521525334042\n",
      "At random state 92,the testing accuracy is:- 0.9340599933972584\n",
      "\n",
      "\n",
      "At random state 93,the training accuracy is:- 0.9047647564829178\n",
      "At random state 93,the testing accuracy is:- 0.9163923829199184\n",
      "\n",
      "\n",
      "At random state 94,the training accuracy is:- 0.9158358853267463\n",
      "At random state 94,the testing accuracy is:- 0.8774273999952186\n",
      "\n",
      "\n",
      "At random state 95,the training accuracy is:- 0.908762010746474\n",
      "At random state 95,the testing accuracy is:- 0.8847191924397741\n",
      "\n",
      "\n",
      "At random state 96,the training accuracy is:- 0.9124810864436\n",
      "At random state 96,the testing accuracy is:- 0.8765165408243332\n",
      "\n",
      "\n",
      "At random state 97,the training accuracy is:- 0.9003961187317151\n",
      "At random state 97,the testing accuracy is:- 0.9229711156572432\n",
      "\n",
      "\n",
      "At random state 98,the training accuracy is:- 0.8965618381654459\n",
      "At random state 98,the testing accuracy is:- 0.9374842321940754\n",
      "\n",
      "\n",
      "At random state 99,the training accuracy is:- 0.9011286161276886\n",
      "At random state 99,the testing accuracy is:- 0.9289415808839093\n",
      "\n",
      "\n"
     ]
    }
   ],
   "source": [
    "from sklearn.linear_model import LinearRegression\n",
    "lr=LinearRegression()\n",
    "from sklearn.metrics import r2_score\n",
    "for i in range(0,100):\n",
    "    x_train,x_test,y_train,y_test = train_test_split(X_scaled,y,test_size=0.20,random_state=i)\n",
    "    lr.fit(x_train,y_train)\n",
    "    y_pred_train=lr.predict(x_train)\n",
    "    y_pred=lr.predict(x_test)\n",
    "    print(f\"At random state {i},the training accuracy is:- {r2_score(y_train,y_pred_train)}\")\n",
    "    print(f\"At random state {i},the testing accuracy is:- {r2_score(y_test,y_pred)}\")\n",
    "    print(\"\\n\")"
   ]
  },
  {
   "cell_type": "code",
   "execution_count": 33,
   "id": "de8763e2",
   "metadata": {},
   "outputs": [
    {
     "name": "stdout",
     "output_type": "stream",
     "text": [
      "90.54991771558711\n"
     ]
    }
   ],
   "source": [
    "x_train,x_test,y_train,y_test = train_test_split(X_scaled,y,test_size=0.20,random_state=91)\n",
    "lr.fit(x_train,y_train)\n",
    "y_pred=lr.predict(x_test)\n",
    "print(r2_score(y_test,y_pred)*100)"
   ]
  },
  {
   "cell_type": "markdown",
   "id": "4177096b",
   "metadata": {},
   "source": [
    "# REGRESSION MODELS & FINDING BEST FIT MODEL"
   ]
  },
  {
   "cell_type": "code",
   "execution_count": 34,
   "id": "2c806ba9",
   "metadata": {},
   "outputs": [
    {
     "name": "stdout",
     "output_type": "stream",
     "text": [
      "Score 96.1632730485656\n"
     ]
    }
   ],
   "source": [
    "from sklearn.tree import DecisionTreeRegressor\n",
    "dt=DecisionTreeRegressor()\n",
    "dt.fit(x_train,y_train)\n",
    "y_pred_dt=dt.predict(x_test)\n",
    "print(\"Score\", r2_score(y_test,y_pred_dt)*100)"
   ]
  },
  {
   "cell_type": "code",
   "execution_count": 35,
   "id": "31c2632b",
   "metadata": {},
   "outputs": [
    {
     "name": "stdout",
     "output_type": "stream",
     "text": [
      "Score 97.86169173401491\n"
     ]
    }
   ],
   "source": [
    "from sklearn.ensemble import RandomForestRegressor\n",
    "rf = RandomForestRegressor()\n",
    "rf.fit(x_train,y_train)\n",
    "y_pred_rf = rf.predict(x_test)\n",
    "print(\"Score\", r2_score(y_test,y_pred_rf)*100)"
   ]
  },
  {
   "cell_type": "code",
   "execution_count": 36,
   "id": "50e806bb",
   "metadata": {},
   "outputs": [
    {
     "name": "stdout",
     "output_type": "stream",
     "text": [
      "Score 90.93861426069704\n"
     ]
    }
   ],
   "source": [
    "from sklearn.svm import SVR\n",
    "svc = SVR()\n",
    "svc.fit(x_train,y_train)\n",
    "y_pred_svc = svc.predict(x_test)\n",
    "print(\"Score\", r2_score(y_test,y_pred_svc)*100)"
   ]
  },
  {
   "cell_type": "code",
   "execution_count": 37,
   "id": "a7a695e4",
   "metadata": {},
   "outputs": [],
   "source": [
    "\n",
    "Train_accuracy=r2_score(y_train,y_pred_train)\n",
    "Test_accuracy=r2_score(y_test,y_pred)\n"
   ]
  },
  {
   "cell_type": "code",
   "execution_count": 38,
   "id": "407f835e",
   "metadata": {},
   "outputs": [
    {
     "name": "stdout",
     "output_type": "stream",
     "text": [
      "At cross fold 5 the cv score is 0.8978060430607071 and accuracy score for training is -93.85042796685168 and accuracy for testing is 90.54991771558711\n",
      "\n",
      "\n"
     ]
    }
   ],
   "source": [
    "from sklearn.model_selection import  cross_val_score\n",
    "cv_score=cross_val_score(lr,X,y,cv=5)\n",
    "cv_mean=cv_score.mean()\n",
    "print(f\"At cross fold 5 the cv score is {cv_mean} and accuracy score for training is {Train_accuracy*100} and accuracy for testing is {Test_accuracy*100}\")\n",
    "print(\"\\n\")"
   ]
  },
  {
   "cell_type": "code",
   "execution_count": 39,
   "id": "0839f113",
   "metadata": {},
   "outputs": [
    {
     "data": {
      "image/png": "[encoded data removed]",
      "text/plain": [
       "<Figure size 576x432 with 1 Axes>"
      ]
     },
     "metadata": {
      "needs_background": "light"
     },
     "output_type": "display_data"
    }
   ],
   "source": [
    "import matplotlib.pyplot as plt\n",
    "plt.figure(figsize=(8,6))\n",
    "plt.scatter(x=y_test,y=y_pred,color='r')\n",
    "plt.plot(y_test,y_test,color='b')\n",
    "plt.xlabel('Actual Charges',fontsize=14)\n",
    "plt.ylabel('Predicted Charges',fontsize=14)\n",
    "plt.title('Linear Regression',fontsize=18)\n",
    "plt.show()"
   ]
  },
  {
   "cell_type": "code",
   "execution_count": 40,
   "id": "42c25b04",
   "metadata": {},
   "outputs": [],
   "source": [
    "from sklearn.model_selection import GridSearchCV, cross_val_score\n",
    "import warnings\n",
    "warnings.filterwarnings('ignore')"
   ]
  },
  {
   "cell_type": "code",
   "execution_count": 41,
   "id": "4f488103",
   "metadata": {},
   "outputs": [
    {
     "name": "stdout",
     "output_type": "stream",
     "text": [
      "{'alpha': 0.1, 'random_state': 0}\n"
     ]
    }
   ],
   "source": [
    "from sklearn.linear_model import Lasso\n",
    "parameters = {'alpha':[.0001, .001, .01, .1, 1, 2, 4, 6, 8, 10], 'random_state': list(range(0,10))}\n",
    "ls = Lasso()\n",
    "clf = GridSearchCV(ls,parameters)\n",
    "clf.fit(x_train,y_train)\n",
    "print(clf.best_params_)"
   ]
  },
  {
   "cell_type": "code",
   "execution_count": 42,
   "id": "6ca99202",
   "metadata": {},
   "outputs": [
    {
     "data": {
      "text/plain": [
       "89.76953107115393"
      ]
     },
     "execution_count": 42,
     "metadata": {},
     "output_type": "execute_result"
    }
   ],
   "source": [
    "ls=Lasso(alpha=0.1,random_state=0)\n",
    "ls.fit(x_train,y_train)\n",
    "ls.score(x_train,y_train)\n",
    "pred_ls=ls.predict(x_test)\n",
    "lss=r2_score(y_test,pred_ls)\n",
    "lss\n",
    "cv_score=cross_val_score(ls,X_scaled,y,cv=5)\n",
    "cv_mean=cv_score.mean()\n",
    "cv_mean*100"
   ]
  },
  {
   "cell_type": "markdown",
   "id": "d5b4516c",
   "metadata": {},
   "source": [
    "# ENSEMBLE TECHNIQUE"
   ]
  },
  {
   "cell_type": "code",
   "execution_count": 43,
   "id": "c8be496c",
   "metadata": {},
   "outputs": [
    {
     "name": "stdout",
     "output_type": "stream",
     "text": [
      "{'criterion': 'mae', 'max_features': 'auto'}\n"
     ]
    }
   ],
   "source": [
    "from sklearn.model_selection import GridSearchCV \n",
    "from sklearn.ensemble import RandomForestRegressor\n",
    "parameters = {'criterion':['mse','mae'], 'max_features':[\"auto\",\"sqrt\",\"log2\"]}\n",
    "rf = RandomForestRegressor()\n",
    "clf = GridSearchCV(rf,parameters)\n",
    "clf.fit(x_train,y_train)\n",
    "print(clf.best_params_)"
   ]
  },
  {
   "cell_type": "code",
   "execution_count": 44,
   "id": "d968fa35",
   "metadata": {},
   "outputs": [
    {
     "data": {
      "text/plain": [
       "0.9968014761091128"
      ]
     },
     "execution_count": 44,
     "metadata": {},
     "output_type": "execute_result"
    }
   ],
   "source": [
    "rf = RandomForestRegressor(criterion=\"mae\",max_features=\"auto\")\n",
    "rf.fit(x_train,y_train)\n",
    "rf.score(x_train,y_train)"
   ]
  },
  {
   "cell_type": "code",
   "execution_count": 45,
   "id": "94d72150",
   "metadata": {},
   "outputs": [
    {
     "name": "stdout",
     "output_type": "stream",
     "text": [
      "r2_score: 97.97179309329249\n",
      "Cross val score: 97.66708195950493\n"
     ]
    }
   ],
   "source": [
    "y_pred=rf.predict(x_test)\n",
    "rfs = r2_score(y_test,y_pred)\n",
    "print(\"r2_score:\",rfs*100)\n",
    "rfscore = cross_val_score(rf,X_scaled,y,cv=5)\n",
    "rfc=rfscore.mean()\n",
    "print(\"Cross val score:\",rfc*100)"
   ]
  },
  {
   "cell_type": "markdown",
   "id": "187c89e4",
   "metadata": {},
   "source": [
    "# SAVING MODEL"
   ]
  },
  {
   "cell_type": "code",
   "execution_count": 46,
   "id": "9360ba60",
   "metadata": {},
   "outputs": [],
   "source": [
    "filename = 'abalone.pickle'\n",
    "pickle.dump(rf, open(filename, 'wb'))"
   ]
  },
  {
   "cell_type": "code",
   "execution_count": null,
   "id": "0cc40cca",
   "metadata": {},
   "outputs": [],
   "source": []
  }
 ],
 "metadata": {
  "kernelspec": {
   "display_name": "Python 3 (ipykernel)",
   "language": "python",
   "name": "python3"
  },
  "language_info": {
   "codemirror_mode": {
    "name": "ipython",
    "version": 3
   },
   "file_extension": ".py",
   "mimetype": "text/x-python",
   "name": "python",
   "nbconvert_exporter": "python",
   "pygments_lexer": "ipython3",
   "version": "3.9.12"
  }
 },
 "nbformat": 4,
 "nbformat_minor": 5
}
